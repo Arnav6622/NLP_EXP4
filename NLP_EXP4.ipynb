{
 "cells": [
  {
   "cell_type": "code",
   "execution_count": 13,
   "id": "75dd6c0d-1aab-4a74-b2ef-0f0e280f4303",
   "metadata": {},
   "outputs": [
    {
     "name": "stderr",
     "output_type": "stream",
     "text": [
      "[nltk_data] Downloading package punkt to\n",
      "[nltk_data]     /Users/macbookair/nltk_data...\n",
      "[nltk_data]   Package punkt is already up-to-date!\n",
      "[nltk_data] Downloading package averaged_perceptron_tagger to\n",
      "[nltk_data]     /Users/macbookair/nltk_data...\n",
      "[nltk_data]   Package averaged_perceptron_tagger is already up-to-\n",
      "[nltk_data]       date!\n",
      "[nltk_data] Downloading package maxent_ne_chunker to\n",
      "[nltk_data]     /Users/macbookair/nltk_data...\n",
      "[nltk_data]   Package maxent_ne_chunker is already up-to-date!\n",
      "[nltk_data] Downloading package words to\n",
      "[nltk_data]     /Users/macbookair/nltk_data...\n",
      "[nltk_data]   Package words is already up-to-date!\n"
     ]
    },
    {
     "data": {
      "text/plain": [
       "True"
      ]
     },
     "execution_count": 13,
     "metadata": {},
     "output_type": "execute_result"
    }
   ],
   "source": [
    "import nltk\n",
    "nltk.download('punkt')\n",
    "nltk.download('averaged_perceptron_tagger')\n",
    "nltk.download('maxent_ne_chunker')\n",
    "nltk.download('words')\n",
    "\n"
   ]
  },
  {
   "cell_type": "code",
   "execution_count": 14,
   "id": "2ba88038-ea02-47a6-82f5-b9be09fa1c1c",
   "metadata": {},
   "outputs": [],
   "source": [
    "sentence = \"John Smith is a software engineer working at Google.\""
   ]
  },
  {
   "cell_type": "code",
   "execution_count": 15,
   "id": "29dde865-caa7-40c5-8208-9c48fdbc4484",
   "metadata": {},
   "outputs": [
    {
     "name": "stdout",
     "output_type": "stream",
     "text": [
      "[('John', 'NNP'), ('Smith', 'NNP'), ('is', 'VBZ'), ('a', 'DT'), ('software', 'NN'), ('engineer', 'NN'), ('working', 'VBG'), ('at', 'IN'), ('Google', 'NNP'), ('.', '.')]\n"
     ]
    }
   ],
   "source": [
    "pos_tags = nltk.pos_tag(nltk.word_tokenize(sentence))\n",
    "print(pos_tags)\n"
   ]
  },
  {
   "cell_type": "code",
   "execution_count": 22,
   "id": "e2a87063-7735-4f13-a8c5-010c09075edd",
   "metadata": {},
   "outputs": [
    {
     "name": "stdout",
     "output_type": "stream",
     "text": [
      "(S\n",
      "  (PERSON John/NNP)\n",
      "  (PERSON Smith/NNP)\n",
      "  is/VBZ\n",
      "  a/DT\n",
      "  software/NN\n",
      "  engineer/NN\n",
      "  working/VBG\n",
      "  at/IN\n",
      "  (ORGANIZATION Google/NNP)\n",
      "  ./.)\n",
      "[]\n"
     ]
    }
   ],
   "source": [
    "chunks = nltk.ne_chunk(pos_tags)\n",
    "print(chunks)\n",
    "\n",
    "vp_pattern = re.compile(r'^VB.{0,3}$')\n",
    "vp_chunks = [chunk for chunk in chunks if isinstance(chunk, nltk.Tree) and chunk.label() == 'VP' and all(vp_pattern.match(tag) for tag in chunk.leaves())]\n",
    "\n",
    "print(vp_chunks)\n"
   ]
  },
  {
   "cell_type": "code",
   "execution_count": null,
   "id": "b2f6eff2-5d5b-42f3-8885-5666ad3dd88f",
   "metadata": {},
   "outputs": [],
   "source": []
  }
 ],
 "metadata": {
  "kernelspec": {
   "display_name": "Python 3 (ipykernel)",
   "language": "python",
   "name": "python3"
  },
  "language_info": {
   "codemirror_mode": {
    "name": "ipython",
    "version": 3
   },
   "file_extension": ".py",
   "mimetype": "text/x-python",
   "name": "python",
   "nbconvert_exporter": "python",
   "pygments_lexer": "ipython3",
   "version": "3.10.0"
  }
 },
 "nbformat": 4,
 "nbformat_minor": 5
}
